{
 "cells": [
  {
   "cell_type": "code",
   "execution_count": 52,
   "metadata": {},
   "outputs": [],
   "source": [
    "import boto3\n",
    "import boto\n",
    "import os\n",
    "import re\n",
    "from sagemaker import get_execution_role\n",
    "from pathlib import Path"
   ]
  },
  {
   "cell_type": "code",
   "execution_count": 53,
   "metadata": {},
   "outputs": [],
   "source": [
    "role = get_execution_role()\n",
    "region = boto3.Session().region_name\n",
    "s3 = boto3.resource('s3')"
   ]
  },
  {
   "cell_type": "code",
   "execution_count": 54,
   "metadata": {},
   "outputs": [],
   "source": [
    "bucket='projeto-datasprints'\n",
    "b = s3.Bucket(bucket)"
   ]
  },
  {
   "cell_type": "code",
   "execution_count": 55,
   "metadata": {},
   "outputs": [],
   "source": [
    "def saveFileToS3(filename):\n",
    "    key = \"{}\".format(filename)\n",
    "    url = 's3://{}/{}'.format(bucket, key)\n",
    "    boto3.Session().resource('s3').Bucket(bucket).Object(key).upload_file(filename)\n",
    "    print('Arquivo adicionado ao bucket {}'.format(url))"
   ]
  },
  {
   "cell_type": "code",
   "execution_count": 56,
   "metadata": {},
   "outputs": [],
   "source": [
    "def saveDirectoryToS3(path):\n",
    "    data_dir = Path(path)\n",
    "    for csv_file in data_dir.glob('*.csv'):\n",
    "        saveFileToS3(str(csv_file))"
   ]
  },
  {
   "cell_type": "code",
   "execution_count": 57,
   "metadata": {},
   "outputs": [],
   "source": [
    "def getFilesFromS3():\n",
    "    b = s3.Bucket(bucket)\n",
    "    objects =  b.objects.all()\n",
    "    return objects"
   ]
  },
  {
   "cell_type": "code",
   "execution_count": 58,
   "metadata": {},
   "outputs": [],
   "source": [
    "def getFileUrls():\n",
    "    urls = []\n",
    "    s3 = boto3.resource('s3')\n",
    "    for file in b.objects.all():\n",
    "        urls.append(file.key)\n",
    "    return urls"
   ]
  }
 ],
 "metadata": {
  "kernelspec": {
   "display_name": "conda_python3",
   "language": "python",
   "name": "conda_python3"
  },
  "language_info": {
   "codemirror_mode": {
    "name": "ipython",
    "version": 3
   },
   "file_extension": ".py",
   "mimetype": "text/x-python",
   "name": "python",
   "nbconvert_exporter": "python",
   "pygments_lexer": "ipython3",
   "version": "3.6.5"
  }
 },
 "nbformat": 4,
 "nbformat_minor": 4
}
