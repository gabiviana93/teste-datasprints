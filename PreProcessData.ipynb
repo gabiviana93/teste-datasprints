{
 "cells": [
  {
   "cell_type": "code",
   "execution_count": 1,
   "metadata": {},
   "outputs": [],
   "source": [
    "from BucketS3Config import *\n",
    "import pandas as pd\n",
    "from pyspark import SparkContext\n",
    "from pyspark.sql.types import *\n",
    "from pyspark.sql import SparkSession\n",
    "import os, json\n",
    "import glob\n",
    "from pyspark.sql import SQLContext\n",
    "import pandas as pd\n",
    "from pyspark.sql.functions import upper, col\n",
    "import pyspark.sql.functions as F"
   ]
  },
  {
   "cell_type": "code",
   "execution_count": 2,
   "metadata": {},
   "outputs": [],
   "source": [
    "# Criação da sessão Spark\n",
    "spark = SparkSession \\\n",
    "        .builder \\\n",
    "        .appName('Processo Seletivo - DataSprints') \\\n",
    "        .getOrCreate()"
   ]
  },
  {
   "cell_type": "code",
   "execution_count": 3,
   "metadata": {},
   "outputs": [],
   "source": [
    "# Criação do contexto Spark SQL   \n",
    "sqlContext = SQLContext(spark)"
   ]
  },
  {
   "cell_type": "code",
   "execution_count": 4,
   "metadata": {},
   "outputs": [],
   "source": [
    "# Gerando a lista de arquivos JSON a serem lidos para juntar os dados das viagens\n",
    "def createFileList(path):\n",
    "    json_pattern = os.path.join(path,'*.json')\n",
    "    file_list = glob.glob(json_pattern)\n",
    "    return file_list"
   ]
  },
  {
   "cell_type": "code",
   "execution_count": 5,
   "metadata": {},
   "outputs": [],
   "source": [
    "# Calcular diferença das datas em segundos\n",
    "def dateTimeDiff(dropoff_time,pickup_time):\n",
    "    timeFmt = \"yyyy-MM-dd'T'HH:mm:ss.SSS\"\n",
    "    timeDiff = (F.unix_timestamp(dropoff_time, format=timeFmt) - F.unix_timestamp(pickup_time, format=timeFmt))\n",
    "    return timeDiff"
   ]
  },
  {
   "cell_type": "code",
   "execution_count": 6,
   "metadata": {},
   "outputs": [],
   "source": [
    "file_list = createFileList('spark_warehouse/datasets/trips/')"
   ]
  },
  {
   "cell_type": "code",
   "execution_count": 7,
   "metadata": {},
   "outputs": [],
   "source": [
    "fields = [\n",
    "    StructField(\"vendor_id\", StringType(), True),\n",
    "    StructField(\"pickup_datetime\", TimestampType(), True),\n",
    "    StructField(\"dropoff_datetime\", TimestampType(), True),\n",
    "    StructField(\"passenger_count\", IntegerType(), True),\n",
    "    StructField(\"trip_distance\", FloatType(), True),\n",
    "    StructField(\"pickup_longitude\", FloatType(), True),\n",
    "    StructField(\"pickup_latitude\", FloatType(), True),\n",
    "    StructField(\"rate_code\", IntegerType(), True),\n",
    "    StructField(\"store_and_fwd_flag\", FloatType(), True),\n",
    "    StructField(\"dropoff_longitude\", FloatType(), True),\n",
    "    StructField(\"dropoff_latitude\", FloatType(), True),\n",
    "    StructField(\"payment_type\", StringType(), True),\n",
    "    StructField(\"fare_amount\", FloatType(), True),\n",
    "    StructField(\"surcharge\", FloatType(), True),\n",
    "    StructField(\"tip_amount\", IntegerType(), True),\n",
    "    StructField(\"tolls_amount\", FloatType(), True),\n",
    "    StructField(\"total_amount\", FloatType(), True)\n",
    "]\n",
    "\n",
    "schema = StructType(fields)\n",
    "\n",
    "dataset = spark.read.json(file_list, schema=schema)"
   ]
  },
  {
   "cell_type": "code",
   "execution_count": 8,
   "metadata": {},
   "outputs": [
    {
     "name": "stdout",
     "output_type": "stream",
     "text": [
      "+---------+--------------------+--------------------+---------------+-------------+----------------+---------------+---------+------------------+-----------------+----------------+------------+-----------+---------+----------+------------+------------+\n",
      "|vendor_id|     pickup_datetime|    dropoff_datetime|passenger_count|trip_distance|pickup_longitude|pickup_latitude|rate_code|store_and_fwd_flag|dropoff_longitude|dropoff_latitude|payment_type|fare_amount|surcharge|tip_amount|tolls_amount|total_amount|\n",
      "+---------+--------------------+--------------------+---------------+-------------+----------------+---------------+---------+------------------+-----------------+----------------+------------+-----------+---------+----------+------------+------------+\n",
      "|      CMT|2009-04-21 19:03:...|2009-04-21 19:04:...|              2|          0.8|       -74.00411|       40.74295|     null|              null|        -73.99471|        40.74795|        Cash|        5.4|      0.0|         0|         0.0|         5.4|\n",
      "|      CMT|2009-01-13 07:50:...|2009-01-13 07:57:...|              1|          5.4|      -73.996506|      40.747784|     null|              null|        -73.94045|       40.792385|        Cash|       15.4|      0.0|         0|         0.0|        15.4|\n",
      "|      VTS|2009-01-06 19:33:...|2009-01-06 19:58:...|              5|         1.67|       -73.95134|       40.75207|     null|              null|       -73.944534|        40.76811|        CASH|        6.1|      1.0|         0|         0.0|         7.1|\n",
      "|      VTS|2009-09-24 08:28:...|2009-09-24 08:54:...|              1|         4.13|      -74.001114|       40.72913|     null|              null|        -73.95812|       40.721813|        CASH|       12.9|      0.5|         0|         0.0|        13.4|\n",
      "|      VTS|2009-10-29 05:54:...|2009-10-29 06:12:...|              1|         2.03|        -73.9766|      40.756874|     null|              null|        -73.97976|       40.776073|        CASH|        7.7|      0.5|         0|         0.0|         8.2|\n",
      "|      VTS|2009-10-23 17:25:...|2009-10-23 17:39:...|              1|         1.15|       -73.99467|      40.750526|     null|              null|        -73.97862|       40.750477|        CASH|        6.5|      0.0|         0|         0.0|         6.5|\n",
      "|      VTS|2009-03-30 09:47:...|2009-03-30 10:02:...|              1|         8.61|       -73.95546|      40.772842|     null|              null|       -73.870834|        40.77404|        CASH|       22.1|      0.0|         0|        4.15|       26.25|\n",
      "|      VTS|2009-03-18 18:00:...|2009-03-18 18:14:...|              5|         0.84|       -73.97616|         40.758|     null|              null|       -73.985115|       40.759315|      Credit|        5.7|      0.0|         2|         0.0|         7.7|\n",
      "|      VTS|2009-03-30 13:31:...|2009-03-30 13:46:...|              2|         1.04|       -73.98859|       40.76441|     null|              null|       -73.975075|       40.761585|        CASH|        6.1|      0.0|         0|         0.0|         6.1|\n",
      "|      VTS|2009-02-20 18:10:...|2009-02-20 18:28:...|              5|         0.75|      -74.001976|      40.740685|     null|              null|        -73.99372|        40.74733|        CASH|        3.7|      0.0|         0|         0.0|         3.7|\n",
      "|      VTS|2009-06-27 16:45:...|2009-06-27 16:52:...|              2|         1.11|             0.0|            0.0|     null|              null|              0.0|             0.0|        CASH|        5.7|      1.0|         0|         0.0|         6.7|\n",
      "|      VTS|2009-03-04 21:31:...|2009-03-04 21:42:...|              1|         4.02|       -73.99618|      40.686802|     null|              null|        -73.99031|       40.731686|      Credit|       11.7|      0.5|         2|         0.0|        14.2|\n",
      "|      VTS|2009-02-10 04:47:...|2009-02-10 05:04:...|              1|         3.08|      -74.005615|       40.74561|     null|              null|        -73.97761|       40.784233|        CASH|        9.3|      0.0|         0|         0.0|         9.3|\n",
      "|      CMT|2009-06-23 18:27:...|2009-06-23 18:39:...|              2|          5.0|      -73.951546|       40.76904|     null|              null|       -73.950905|        40.72384|      Credit|       15.3|      0.0|         2|         0.0|        17.3|\n",
      "|      VTS|2009-11-17 05:07:...|2009-11-17 05:12:...|              2|         1.49|       -73.97914|       40.76224|     null|              null|        -74.00009|        40.76272|        CASH|        7.7|      0.0|         0|         0.0|         7.7|\n",
      "|      VTS|2009-02-08 06:39:...|2009-02-08 06:54:...|              5|         0.62|       -73.96111|       40.76863|     null|              null|        -73.95545|       40.776245|        CASH|        3.7|      0.5|         0|         0.0|         4.2|\n",
      "|      VTS|2009-05-11 02:23:...|2009-05-11 02:35:...|              2|         3.67|       -74.00114|      40.725395|     null|              null|        -73.97384|       40.764233|        CASH|       14.1|      0.0|         0|         0.0|        14.1|\n",
      "|      VTS|2009-05-22 22:27:...|2009-05-22 22:34:...|              2|         0.71|       -73.99293|       40.73682|     null|              null|        -74.00508|        40.74162|      Credit|        4.5|      1.0|         1|         0.0|         6.5|\n",
      "|      VTS|2009-11-06 15:58:...|2009-11-06 16:05:...|              5|         1.16|       -73.98894|      40.721764|     null|              null|        -73.99051|       40.733727|        CASH|        5.7|      0.0|         0|         0.0|         5.7|\n",
      "|      VTS|2009-02-09 04:55:...|2009-02-09 04:49:...|              1|         2.08|       -73.99982|      40.761536|     null|              null|        -73.97906|       40.777527|        CASH|        7.7|      0.5|         0|         0.0|         8.2|\n",
      "+---------+--------------------+--------------------+---------------+-------------+----------------+---------------+---------+------------------+-----------------+----------------+------------+-----------+---------+----------+------------+------------+\n",
      "only showing top 20 rows\n",
      "\n"
     ]
    }
   ],
   "source": [
    "dataset.show()"
   ]
  },
  {
   "cell_type": "code",
   "execution_count": 9,
   "metadata": {},
   "outputs": [],
   "source": [
    "# Todas as formas de pagamento em minúsculo\n",
    "dataset = dataset.withColumn('payment_type', upper(col('payment_type')))"
   ]
  },
  {
   "cell_type": "code",
   "execution_count": 10,
   "metadata": {},
   "outputs": [],
   "source": [
    "# Duração da viagem em segundos\n",
    "dataset = dataset.withColumn(\"duration\", dateTimeDiff(col('dropoff_datetime'),col('pickup_datetime')) )"
   ]
  },
  {
   "cell_type": "code",
   "execution_count": 11,
   "metadata": {},
   "outputs": [],
   "source": [
    "# Mês da viagem\n",
    "dataset = dataset.withColumn(\"month_travel\", F.month(col('pickup_datetime')) )"
   ]
  },
  {
   "cell_type": "code",
   "execution_count": 12,
   "metadata": {},
   "outputs": [],
   "source": [
    "# Ano da viagem\n",
    "dataset = dataset.withColumn(\"year_travel\", F.year(col('pickup_datetime')) )"
   ]
  },
  {
   "cell_type": "code",
   "execution_count": 13,
   "metadata": {},
   "outputs": [],
   "source": [
    "# Dia da semana da viagem\n",
    "dataset = dataset.withColumn(\"weekday\", F.date_format('pickup_datetime', 'E'))"
   ]
  },
  {
   "cell_type": "code",
   "execution_count": 14,
   "metadata": {},
   "outputs": [],
   "source": [
    "# Criando a tabela trips \n",
    "dataset.createOrReplaceTempView(\"trips\");"
   ]
  },
  {
   "cell_type": "code",
   "execution_count": 15,
   "metadata": {},
   "outputs": [],
   "source": [
    "filename = 'datasets/trips_dataset'"
   ]
  },
  {
   "cell_type": "code",
   "execution_count": 16,
   "metadata": {},
   "outputs": [],
   "source": [
    "#dataset.select('*').write.format('com.databricks.spark.csv').options(codec=\"org.apache.hadoop.io.compress.GzipCodec\").save(filename)\n",
    "#dataset.select('*').write.mode('overwrite').format('com.databricks.spark.csv').save(filename)\n",
    "\n",
    "# dataset.select(\"*\") \\\n",
    "# .write.format('com.databricks.spark.csv') \\\n",
    "# .mode('overwrite') \\\n",
    "# .save(filename)"
   ]
  },
  {
   "cell_type": "code",
   "execution_count": null,
   "metadata": {},
   "outputs": [],
   "source": [
    "dataset.repartition(1).write.mode('overwrite').csv(filename, sep=';',header = 'true')"
   ]
  },
  {
   "cell_type": "code",
   "execution_count": 17,
   "metadata": {},
   "outputs": [
    {
     "name": "stdout",
     "output_type": "stream",
     "text": [
      "Arquivo adicionado ao bucket s3://projeto-datasprints/datasets/trips_dataset/part-00000-d1c52d9f-50de-49c7-b58c-67469e3ca6ac-c000.csv\n",
      "Arquivo adicionado ao bucket s3://projeto-datasprints/datasets/trips_dataset/part-00013-d1c52d9f-50de-49c7-b58c-67469e3ca6ac-c000.csv\n",
      "Arquivo adicionado ao bucket s3://projeto-datasprints/datasets/trips_dataset/part-00012-d1c52d9f-50de-49c7-b58c-67469e3ca6ac-c000.csv\n",
      "Arquivo adicionado ao bucket s3://projeto-datasprints/datasets/trips_dataset/part-00003-d1c52d9f-50de-49c7-b58c-67469e3ca6ac-c000.csv\n",
      "Arquivo adicionado ao bucket s3://projeto-datasprints/datasets/trips_dataset/part-00011-d1c52d9f-50de-49c7-b58c-67469e3ca6ac-c000.csv\n",
      "Arquivo adicionado ao bucket s3://projeto-datasprints/datasets/trips_dataset/part-00002-d1c52d9f-50de-49c7-b58c-67469e3ca6ac-c000.csv\n",
      "Arquivo adicionado ao bucket s3://projeto-datasprints/datasets/trips_dataset/part-00004-d1c52d9f-50de-49c7-b58c-67469e3ca6ac-c000.csv\n",
      "Arquivo adicionado ao bucket s3://projeto-datasprints/datasets/trips_dataset/part-00010-d1c52d9f-50de-49c7-b58c-67469e3ca6ac-c000.csv\n",
      "Arquivo adicionado ao bucket s3://projeto-datasprints/datasets/trips_dataset/part-00006-d1c52d9f-50de-49c7-b58c-67469e3ca6ac-c000.csv\n",
      "Arquivo adicionado ao bucket s3://projeto-datasprints/datasets/trips_dataset/part-00007-d1c52d9f-50de-49c7-b58c-67469e3ca6ac-c000.csv\n",
      "Arquivo adicionado ao bucket s3://projeto-datasprints/datasets/trips_dataset/part-00005-d1c52d9f-50de-49c7-b58c-67469e3ca6ac-c000.csv\n",
      "Arquivo adicionado ao bucket s3://projeto-datasprints/datasets/trips_dataset/part-00008-d1c52d9f-50de-49c7-b58c-67469e3ca6ac-c000.csv\n",
      "Arquivo adicionado ao bucket s3://projeto-datasprints/datasets/trips_dataset/part-00001-d1c52d9f-50de-49c7-b58c-67469e3ca6ac-c000.csv\n",
      "Arquivo adicionado ao bucket s3://projeto-datasprints/datasets/trips_dataset/part-00009-d1c52d9f-50de-49c7-b58c-67469e3ca6ac-c000.csv\n"
     ]
    }
   ],
   "source": [
    "saveDirectoryToS3(filename)"
   ]
  }
 ],
 "metadata": {
  "kernelspec": {
   "display_name": "conda_python3",
   "language": "python",
   "name": "conda_python3"
  },
  "language_info": {
   "codemirror_mode": {
    "name": "ipython",
    "version": 3
   },
   "file_extension": ".py",
   "mimetype": "text/x-python",
   "name": "python",
   "nbconvert_exporter": "python",
   "pygments_lexer": "ipython3",
   "version": "3.6.5"
  }
 },
 "nbformat": 4,
 "nbformat_minor": 4
}