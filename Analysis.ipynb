{
 "cells": [
  {
   "cell_type": "code",
   "execution_count": 1,
   "metadata": {},
   "outputs": [],
   "source": [
    "from pyspark import SparkContext\n",
    "from pyspark.sql.types import *\n",
    "from pyspark.sql import SparkSession\n",
    "from pyspark import SQLContext\n",
    "import seaborn as sns\n",
    "import matplotlib.pyplot as plt\n",
    "import pyspark.sql.functions as F\n",
    "import numpy as np\n",
    "from pylab import rcParams\n",
    "import pandas as pd\n",
    "import os\n",
    "import glob"
   ]
  },
  {
   "cell_type": "code",
   "execution_count": 2,
   "metadata": {},
   "outputs": [],
   "source": [
    "# Define o estilo para ggplot\n",
    "plt.style.use(\"ggplot\")"
   ]
  },
  {
   "cell_type": "code",
   "execution_count": 3,
   "metadata": {},
   "outputs": [],
   "source": [
    "# Criação da sessão Spark\n",
    "spark = SparkSession \\\n",
    "        .builder \\\n",
    "        .appName('Processo Seletivo - DataSprints') \\\n",
    "        .getOrCreate()"
   ]
  },
  {
   "cell_type": "code",
   "execution_count": 4,
   "metadata": {},
   "outputs": [],
   "source": [
    "# Criação do contexto Spark SQL   \n",
    "sqlContext = SQLContext(spark)"
   ]
  },
  {
   "cell_type": "markdown",
   "metadata": {},
   "source": [
    "Importando arquivos das empresas de Táxi:"
   ]
  },
  {
   "cell_type": "code",
   "execution_count": 5,
   "metadata": {},
   "outputs": [],
   "source": [
    "vendor = spark.read.option(\"delimiter\", \",\").csv(\n",
    "    \"spark-warehouse/datasets/data-vendor.csv\", header=True\n",
    ")"
   ]
  },
  {
   "cell_type": "code",
   "execution_count": 6,
   "metadata": {},
   "outputs": [
    {
     "name": "stdout",
     "output_type": "stream",
     "text": [
      "+---------+--------------------+--------------------+--------+-----+-----+-------+--------------------+-------+\n",
      "|vendor_id|                name|             address|    city|state|  zip|country|             contact|current|\n",
      "+---------+--------------------+--------------------+--------+-----+-----+-------+--------------------+-------+\n",
      "|      CMT|Creative Mobile T...|950 4th Road Suit...|Brooklyn|   NY|11210|    USA|contactCMT@gmail.com|    Yes|\n",
      "|      VTS|        VeriFone Inc|       26 Summit St.|Flushing|   NY|11354|    USA|   admin@vtstaxi.com|    Yes|\n",
      "|      DDS|Dependable Driver...|8554 North Homest...|   Bronx|   NY|10472|    USA|          9778896500|    Yes|\n",
      "|       TS|  Total Solutions Co|Five Boroughs Tax...|Brooklyn|   NY|11229|    USA|       mgmt@5btc.com|    Yes|\n",
      "|       MT|           Mega Taxi| 4 East Jennings St.|Brooklyn|   NY|11228|    USA|contact@megataxic...|     No|\n",
      "+---------+--------------------+--------------------+--------+-----+-----+-------+--------------------+-------+\n",
      "\n"
     ]
    }
   ],
   "source": [
    "vendor.show()"
   ]
  },
  {
   "cell_type": "code",
   "execution_count": 7,
   "metadata": {},
   "outputs": [],
   "source": [
    "# Criando a tabela vendor para utilizar nas análises \n",
    "vendor.createOrReplaceTempView(\"vendor\");"
   ]
  },
  {
   "cell_type": "markdown",
   "metadata": {},
   "source": [
    "Criação da tabela que contém o de-para dos pagamentos das viagens:"
   ]
  },
  {
   "cell_type": "code",
   "execution_count": 8,
   "metadata": {},
   "outputs": [],
   "source": [
    "payment = spark.read.option(\"delimiter\", \",\").csv(\n",
    "    \"spark-warehouse/datasets/data-payment.csv\", header=True\n",
    ")"
   ]
  },
  {
   "cell_type": "code",
   "execution_count": 9,
   "metadata": {},
   "outputs": [
    {
     "name": "stdout",
     "output_type": "stream",
     "text": [
      "+------------+--------------+\n",
      "|           A|             B|\n",
      "+------------+--------------+\n",
      "|payment_type|payment_lookup|\n",
      "|         Cas|          Cash|\n",
      "|         CAS|          Cash|\n",
      "|         Cre|        Credit|\n",
      "|         CRE|        Credit|\n",
      "|         No |     No Charge|\n",
      "|         Dis|       Dispute|\n",
      "|        Cash|          Cash|\n",
      "|        CASH|          Cash|\n",
      "|      Credit|        Credit|\n",
      "|      CREDIT|        Credit|\n",
      "|   No Charge|     No Charge|\n",
      "|     Dispute|       Dispute|\n",
      "|         CRD|        Credit|\n",
      "|         CSH|          Cash|\n",
      "|         NOC|     No Charge|\n",
      "|         DIS|       Dispute|\n",
      "|         UNK|       Unknown|\n",
      "|           1|           Foo|\n",
      "|           2|           Foo|\n",
      "+------------+--------------+\n",
      "only showing top 20 rows\n",
      "\n"
     ]
    }
   ],
   "source": [
    "payment.show()"
   ]
  },
  {
   "cell_type": "code",
   "execution_count": 10,
   "metadata": {},
   "outputs": [],
   "source": [
    "# Criando a tabela trips \n",
    "payment.createOrReplaceTempView(\"payment\");"
   ]
  },
  {
   "cell_type": "code",
   "execution_count": 11,
   "metadata": {},
   "outputs": [],
   "source": [
    "#  Estrutura da tabela trips a ser criada\n",
    "fields = [\n",
    "    StructField(\"vendor_id\", StringType(), True),\n",
    "    StructField(\"pickup_datetime\", TimestampType(), True),\n",
    "    StructField(\"dropoff_datetime\", TimestampType(), True),\n",
    "    StructField(\"passenger_count\", IntegerType(), True),\n",
    "    StructField(\"trip_distance\", FloatType(), True),\n",
    "    StructField(\"pickup_longitude\", FloatType(), True),\n",
    "    StructField(\"pickup_latitude\", FloatType(), True),\n",
    "    StructField(\"rate_code\", IntegerType(), True),\n",
    "    StructField(\"store_and_fwd_flag\", FloatType(), True),\n",
    "    StructField(\"dropoff_longitude\", FloatType(), True),\n",
    "    StructField(\"dropoff_latitude\", FloatType(), True),\n",
    "    StructField(\"payment_type\", StringType(), True),\n",
    "    StructField(\"fare_amount\", FloatType(), True),\n",
    "    StructField(\"surcharge\", FloatType(), True),\n",
    "    StructField(\"tip_amount\", FloatType(), True),\n",
    "    StructField(\"tolls_amount\", FloatType(), True),\n",
    "    StructField(\"total_amount\", FloatType(), True),\n",
    "    StructField(\"duration\", IntegerType(), True),\n",
    "    StructField(\"month_travel\", IntegerType(), True),\n",
    "    StructField(\"year_travel\", IntegerType(), True),\n",
    "    StructField(\"weekday\", StringType(), True)\n",
    "]\n",
    "\n",
    "schema = StructType(fields)"
   ]
  },
  {
   "cell_type": "code",
   "execution_count": null,
   "metadata": {},
   "outputs": [],
   "source": [
    "path = 'spark-warehouse/datasets/trips-processed'"
   ]
  },
  {
   "cell_type": "code",
   "execution_count": 12,
   "metadata": {},
   "outputs": [],
   "source": [
    "# Leitura do arquivo processado e salvo no S3 - Foi baixado e adicionado ao projeto pois a integração do Spark com o s3 não funcionou\n",
    "trips = spark.read.option(\"delimiter\", \";\").csv(\n",
    "    glob.glob(os.path.join(path,'*.csv'), header=True, schema=schema\n",
    ")"
   ]
  },
  {
   "cell_type": "code",
   "execution_count": 14,
   "metadata": {},
   "outputs": [],
   "source": [
    "# Removendo dados que contenham datas nulas ou preço da corrida nulo\n",
    "trips = trips.na.drop(subset=['pickup_datetime', 'dropoff_datetime', 'fare_amount'])"
   ]
  },
  {
   "cell_type": "markdown",
   "metadata": {},
   "source": [
    "Adicionando algumas variáveis extras que serão úteis nas análises:"
   ]
  },
  {
   "cell_type": "code",
   "execution_count": 16,
   "metadata": {},
   "outputs": [],
   "source": [
    "# Data sem hora, min e segundos\n",
    "trips = trips.withColumn('pickup_date', F.date_format(F.col('pickup_datetime'), 'yyy-MM-dd'))"
   ]
  },
  {
   "cell_type": "code",
   "execution_count": 17,
   "metadata": {},
   "outputs": [],
   "source": [
    "# Abreviação do dia da semana por extenso\n",
    "trips = trips.withColumn('weekday_day', F.date_format(F.col('pickup_datetime'), 'u'))"
   ]
  },
  {
   "cell_type": "code",
   "execution_count": 18,
   "metadata": {},
   "outputs": [],
   "source": [
    "# Hora de início da corrida\n",
    "trips = trips.withColumn('pickup_hour', F.hour(F.col('pickup_datetime')))"
   ]
  },
  {
   "cell_type": "code",
   "execution_count": 19,
   "metadata": {},
   "outputs": [],
   "source": [
    "# Função que categoriza a corrida em madrugada (dawn), manhã (morning), tarde (evening) e noite (night)\n",
    "def categorize_period(hour):\n",
    "    if hour >= 0 and hour < 6:\n",
    "        return \"dawn\"\n",
    "    elif hour >= 6 and hour < 12:\n",
    "        return \"morning\"\n",
    "    elif hour >= 12 and hour < 18:\n",
    "        return \"evening\"\n",
    "    else: \n",
    "        return \"night\""
   ]
  },
  {
   "cell_type": "code",
   "execution_count": 20,
   "metadata": {},
   "outputs": [],
   "source": [
    "bucket_udf = F.udf(categorize_period, StringType() )\n",
    "trips = trips.withColumn(\"trip_period\", bucket_udf(\"pickup_hour\"))"
   ]
  },
  {
   "cell_type": "code",
   "execution_count": 24,
   "metadata": {},
   "outputs": [
    {
     "name": "stdout",
     "output_type": "stream",
     "text": [
      "+---------+--------------------+--------------------+---------------+-------------+----------------+---------------+---------+------------------+-----------------+----------------+------------+-----------+---------+----------+------------+------------+--------+------------+-----------+-------+-----------+-----------+-----------+-----------+\n",
      "|vendor_id|     pickup_datetime|    dropoff_datetime|passenger_count|trip_distance|pickup_longitude|pickup_latitude|rate_code|store_and_fwd_flag|dropoff_longitude|dropoff_latitude|payment_type|fare_amount|surcharge|tip_amount|tolls_amount|total_amount|duration|month_travel|year_travel|weekday|pickup_date|weekday_day|pickup_hour|trip_period|\n",
      "+---------+--------------------+--------------------+---------------+-------------+----------------+---------------+---------+------------------+-----------------+----------------+------------+-----------+---------+----------+------------+------------+--------+------------+-----------+-------+-----------+-----------+-----------+-----------+\n",
      "|      CMT|2009-04-21 19:03:...|2009-04-21 19:04:...|              2|          0.8|       -74.00411|       40.74295|     null|              null|        -73.99471|        40.74795|        CASH|        5.4|      0.0|       0.0|         0.0|         5.4|      24|           4|       2009|    Tue| 2009-04-21|          2|         19|      night|\n",
      "|      CMT|2009-01-13 07:50:...|2009-01-13 07:57:...|              1|          5.4|      -73.996506|      40.747784|     null|              null|        -73.94045|       40.792385|        CASH|       15.4|      0.0|       0.0|         0.0|        15.4|     376|           1|       2009|    Tue| 2009-01-13|          2|          7|    morning|\n",
      "|      VTS|2009-01-06 19:33:...|2009-01-06 19:58:...|              5|         1.67|       -73.95134|       40.75207|     null|              null|       -73.944534|        40.76811|        CASH|        6.1|      1.0|       0.0|         0.0|         7.1|    1511|           1|       2009|    Tue| 2009-01-06|          2|         19|      night|\n",
      "|      VTS|2009-09-24 08:28:...|2009-09-24 08:54:...|              1|         4.13|      -74.001114|       40.72913|     null|              null|        -73.95812|       40.721813|        CASH|       12.9|      0.5|       0.0|         0.0|        13.4|    1562|           9|       2009|    Thu| 2009-09-24|          4|          8|    morning|\n",
      "|      VTS|2009-10-29 05:54:...|2009-10-29 06:12:...|              1|         2.03|        -73.9766|      40.756874|     null|              null|        -73.97976|       40.776073|        CASH|        7.7|      0.5|       0.0|         0.0|         8.2|    1069|          10|       2009|    Thu| 2009-10-29|          4|          5|       dawn|\n",
      "+---------+--------------------+--------------------+---------------+-------------+----------------+---------------+---------+------------------+-----------------+----------------+------------+-----------+---------+----------+------------+------------+--------+------------+-----------+-------+-----------+-----------+-----------+-----------+\n",
      "only showing top 5 rows\n",
      "\n"
     ]
    }
   ],
   "source": [
    "trips.show(5)"
   ]
  },
  {
   "cell_type": "code",
   "execution_count": 22,
   "metadata": {},
   "outputs": [],
   "source": [
    "# Criando a tabela trips \n",
    "trips.createOrReplaceTempView(\"trips\");"
   ]
  },
  {
   "cell_type": "markdown",
   "metadata": {},
   "source": [
    "## Análises"
   ]
  },
  {
   "cell_type": "markdown",
   "metadata": {},
   "source": [
    "- What is the average distance traveled by trips with a maximum of 2 passengers:"
   ]
  },
  {
   "cell_type": "code",
   "execution_count": 25,
   "metadata": {},
   "outputs": [],
   "source": [
    "result = sqlContext.sql('SELECT ROUND(AVG(trip_distance),2) AS distancia_media FROM trips WHERE passenger_count <= 2 AND passenger_count > 0')"
   ]
  },
  {
   "cell_type": "code",
   "execution_count": 26,
   "metadata": {},
   "outputs": [
    {
     "name": "stdout",
     "output_type": "stream",
     "text": [
      "+---------------+\n",
      "|distancia_media|\n",
      "+---------------+\n",
      "|           2.56|\n",
      "+---------------+\n",
      "\n"
     ]
    }
   ],
   "source": [
    "result.show()"
   ]
  },
  {
   "cell_type": "markdown",
   "metadata": {},
   "source": [
    "- Which are the 3 biggest vendors based on the total amount of money raised:"
   ]
  },
  {
   "cell_type": "code",
   "execution_count": 27,
   "metadata": {},
   "outputs": [],
   "source": [
    "result = sqlContext.sql(\"SELECT name AS empresa, ROUND(SUM(total_amount), 2) AS total_vendas FROM trips t INNER JOIN vendor v ON v.vendor_id = t.vendor_id WHERE passenger_count > 0 GROUP BY empresa ORDER BY total_vendas DESC LIMIT 3\")"
   ]
  },
  {
   "cell_type": "code",
   "execution_count": 28,
   "metadata": {},
   "outputs": [
    {
     "name": "stdout",
     "output_type": "stream",
     "text": [
      "+--------------------+-------------+\n",
      "|             empresa| total_vendas|\n",
      "+--------------------+-------------+\n",
      "|        VeriFone Inc|1.736290919E7|\n",
      "|Creative Mobile T...|1.626181847E7|\n",
      "|Dependable Driver...|   2381722.65|\n",
      "+--------------------+-------------+\n",
      "\n"
     ]
    }
   ],
   "source": [
    "result.show()"
   ]
  },
  {
   "cell_type": "markdown",
   "metadata": {},
   "source": [
    "- Make a histogram of the monthly distribution over 4 years of rides paid with cash"
   ]
  },
  {
   "cell_type": "code",
   "execution_count": 29,
   "metadata": {},
   "outputs": [],
   "source": [
    "cash_trips = sqlContext.sql(\"SELECT month_travel AS month FROM trips WHERE payment_type = 'CASH'\")"
   ]
  },
  {
   "cell_type": "code",
   "execution_count": 30,
   "metadata": {},
   "outputs": [],
   "source": [
    "cash_trips = cash_trips.toPandas()"
   ]
  },
  {
   "cell_type": "code",
   "execution_count": 31,
   "metadata": {},
   "outputs": [
    {
     "data": {
      "image/png": "[encoded data removed]",
      "text/plain": [
       "<Figure size 720x360 with 1 Axes>"
      ]
     },
     "metadata": {},
     "output_type": "display_data"
    }
   ],
   "source": [
    "%matplotlib inline\n",
    "rcParams['figure.figsize'] = 10, 5\n",
    "\n",
    "cash_trips.hist(bins=25)\n",
    "plt.xlabel('Meses')\n",
    "plt.ylabel('Quantidade de viagens')\n",
    "plt.title(\"Distribuição da quantidade de viagens por mês no período de 2009-2012\")\n",
    "plt.xticks(np.arange(1,13), ('Jan', 'Fev', 'Mar', 'Abr', 'Mai','Jun','Jul','Ago','Set', 'Out', 'Nov', 'Dez'))\n",
    "plt.show()"
   ]
  },
  {
   "cell_type": "markdown",
   "metadata": {},
   "source": [
    "- Make a time series chart computing the number of tips each day for the last 3 months of 2012."
   ]
  },
  {
   "cell_type": "code",
   "execution_count": 32,
   "metadata": {},
   "outputs": [],
   "source": [
    "tips_2012 = sqlContext.sql(\"SELECT year_travel AS year, month_travel AS month, pickup_date as date, COUNT(*) AS trips_with_tip FROM trips WHERE tip_amount > 0.0 AND year_travel = 2012 AND month_travel IN(10,11,12) GROUP BY date, year, month ORDER BY date, year, month\")"
   ]
  },
  {
   "cell_type": "code",
   "execution_count": 33,
   "metadata": {},
   "outputs": [],
   "source": [
    "tips_2012 = tips_2012.toPandas()"
   ]
  },
  {
   "cell_type": "code",
   "execution_count": 34,
   "metadata": {},
   "outputs": [],
   "source": [
    "tips_2012 = tips_2012.set_index('date')"
   ]
  },
  {
   "cell_type": "code",
   "execution_count": 35,
   "metadata": {},
   "outputs": [
    {
     "data": {
      "image/png": "[encoded data removed]",
      "text/plain": [
       "<Figure size 720x720 with 1 Axes>"
      ]
     },
     "metadata": {},
     "output_type": "display_data"
    }
   ],
   "source": [
    "%matplotlib inline\n",
    "\n",
    "rcParams['figure.figsize'] = 10, 10\n",
    "\n",
    "\n",
    "plt.xlabel('Data')\n",
    "plt.ylabel('Qty. de viagens com gorjeta')\n",
    "plt.title(\"Distribuição diária da quantidade de viagens com gorjeta no período de outubro a dezembro de 2012\")\n",
    "sns.set(rc={'figure.figsize':(15, 15)})\n",
    "tips_2012['trips_with_tip'].plot(linewidth=0.5)"
   ]
  },
  {
   "cell_type": "markdown",
   "metadata": {},
   "source": [
    "- What is the average trip time on Saturdays and Sundays;"
   ]
  },
  {
   "cell_type": "code",
   "execution_count": 36,
   "metadata": {},
   "outputs": [],
   "source": [
    "average = sqlContext.sql(\"SELECT weekday AS dia_semana, AVG(duration) AS duracao_media_seg FROM trips WHERE weekday IN('Sat','Sun') GROUP BY weekday\")"
   ]
  },
  {
   "cell_type": "code",
   "execution_count": 37,
   "metadata": {},
   "outputs": [],
   "source": [
    "average = average.toPandas()"
   ]
  },
  {
   "cell_type": "code",
   "execution_count": 38,
   "metadata": {},
   "outputs": [],
   "source": [
    "average['duracao_media_min'] = (average['duracao_media_seg']/60)"
   ]
  },
  {
   "cell_type": "code",
   "execution_count": 39,
   "metadata": {},
   "outputs": [
    {
     "data": {
      "text/html": [
       "<div>\n",
       "<style scoped>\n",
       "    .dataframe tbody tr th:only-of-type {\n",
       "        vertical-align: middle;\n",
       "    }\n",
       "\n",
       "    .dataframe tbody tr th {\n",
       "        vertical-align: top;\n",
       "    }\n",
       "\n",
       "    .dataframe thead th {\n",
       "        text-align: right;\n",
       "    }\n",
       "</style>\n",
       "<table border=\"1\" class=\"dataframe\">\n",
       "  <thead>\n",
       "    <tr style=\"text-align: right;\">\n",
       "      <th></th>\n",
       "      <th>dia_semana</th>\n",
       "      <th>duracao_media_seg</th>\n",
       "      <th>duracao_media_min</th>\n",
       "    </tr>\n",
       "  </thead>\n",
       "  <tbody>\n",
       "    <tr>\n",
       "      <th>0</th>\n",
       "      <td>Sun</td>\n",
       "      <td>525.308953</td>\n",
       "      <td>8.755149</td>\n",
       "    </tr>\n",
       "    <tr>\n",
       "      <th>1</th>\n",
       "      <td>Sat</td>\n",
       "      <td>524.719091</td>\n",
       "      <td>8.745318</td>\n",
       "    </tr>\n",
       "  </tbody>\n",
       "</table>\n",
       "</div>"
      ],
      "text/plain": [
       "  dia_semana  duracao_media_seg  duracao_media_min\n",
       "0        Sun         525.308953           8.755149\n",
       "1        Sat         524.719091           8.745318"
      ]
     },
     "execution_count": 39,
     "metadata": {},
     "output_type": "execute_result"
    }
   ],
   "source": [
    "average.head()"
   ]
  },
  {
   "cell_type": "markdown",
   "metadata": {},
   "source": [
    " -  Analyse the data to find and prove seasonality"
   ]
  },
  {
   "cell_type": "markdown",
   "metadata": {},
   "source": [
    "- Quantidade de passageiros por viagem"
   ]
  },
  {
   "cell_type": "code",
   "execution_count": 40,
   "metadata": {},
   "outputs": [],
   "source": [
    "passenger_trips = sqlContext.sql(\"SELECT qry.num_pass, COUNT(*) AS qtde FROM (SELECT passenger_count AS num_pass FROM trips WHERE passenger_count > 0 ) AS qry GROUP BY qry.num_pass ORDER BY qtde DESC \")"
   ]
  },
  {
   "cell_type": "code",
   "execution_count": 41,
   "metadata": {},
   "outputs": [],
   "source": [
    "passenger_trips = passenger_trips.toPandas()"
   ]
  },
  {
   "cell_type": "code",
   "execution_count": 42,
   "metadata": {},
   "outputs": [
    {
     "data": {
      "text/html": [
       "<div>\n",
       "<style scoped>\n",
       "    .dataframe tbody tr th:only-of-type {\n",
       "        vertical-align: middle;\n",
       "    }\n",
       "\n",
       "    .dataframe tbody tr th {\n",
       "        vertical-align: top;\n",
       "    }\n",
       "\n",
       "    .dataframe thead th {\n",
       "        text-align: right;\n",
       "    }\n",
       "</style>\n",
       "<table border=\"1\" class=\"dataframe\">\n",
       "  <thead>\n",
       "    <tr style=\"text-align: right;\">\n",
       "      <th></th>\n",
       "      <th>num_pass</th>\n",
       "      <th>qtde</th>\n",
       "    </tr>\n",
       "  </thead>\n",
       "  <tbody>\n",
       "    <tr>\n",
       "      <th>0</th>\n",
       "      <td>1</td>\n",
       "      <td>2331736</td>\n",
       "    </tr>\n",
       "    <tr>\n",
       "      <th>1</th>\n",
       "      <td>2</td>\n",
       "      <td>670312</td>\n",
       "    </tr>\n",
       "    <tr>\n",
       "      <th>2</th>\n",
       "      <td>5</td>\n",
       "      <td>322396</td>\n",
       "    </tr>\n",
       "    <tr>\n",
       "      <th>3</th>\n",
       "      <td>3</td>\n",
       "      <td>193484</td>\n",
       "    </tr>\n",
       "    <tr>\n",
       "      <th>4</th>\n",
       "      <td>4</td>\n",
       "      <td>110996</td>\n",
       "    </tr>\n",
       "    <tr>\n",
       "      <th>5</th>\n",
       "      <td>6</td>\n",
       "      <td>15064</td>\n",
       "    </tr>\n",
       "  </tbody>\n",
       "</table>\n",
       "</div>"
      ],
      "text/plain": [
       "   num_pass     qtde\n",
       "0         1  2331736\n",
       "1         2   670312\n",
       "2         5   322396\n",
       "3         3   193484\n",
       "4         4   110996\n",
       "5         6    15064"
      ]
     },
     "execution_count": 42,
     "metadata": {},
     "output_type": "execute_result"
    }
   ],
   "source": [
    "passenger_trips"
   ]
  },
  {
   "cell_type": "code",
   "execution_count": 53,
   "metadata": {},
   "outputs": [
    {
     "data": {
      "image/png": "[encoded data removed]",
      "text/plain": [
       "<Figure size 576x576 with 1 Axes>"
      ]
     },
     "metadata": {},
     "output_type": "display_data"
    }
   ],
   "source": [
    "rcParams['figure.figsize'] = 8,8\n",
    "passenger_trips[['qtde']].plot()\n",
    "plt.xlabel('Qty. de viagens')\n",
    "plt.ylabel('Qty. de passageiros')\n",
    "plt.title(\"Qtde. de viagens x Qtde. de passageiros\")\n",
    "\n",
    "plt.show()"
   ]
  },
  {
   "cell_type": "markdown",
   "metadata": {},
   "source": [
    "#### Quantidade de viagens por mês - todos os 4 anos"
   ]
  },
  {
   "cell_type": "code",
   "execution_count": 54,
   "metadata": {},
   "outputs": [],
   "source": [
    "trips = sqlContext.sql(\"SELECT year_travel AS year, month_travel AS month, COUNT(*) AS qtde_viagens FROM trips GROUP BY year, month ORDER BY year, month ASC\")"
   ]
  },
  {
   "cell_type": "code",
   "execution_count": 55,
   "metadata": {},
   "outputs": [],
   "source": [
    "trips = trips.toPandas()"
   ]
  },
  {
   "cell_type": "code",
   "execution_count": 56,
   "metadata": {},
   "outputs": [],
   "source": [
    "trips_month = trips.groupby('month').qtde_viagens.sum().reset_index()"
   ]
  },
  {
   "cell_type": "code",
   "execution_count": 57,
   "metadata": {},
   "outputs": [
    {
     "data": {
      "image/png": "[encoded data removed]",
      "text/plain": [
       "<Figure size 720x360 with 1 Axes>"
      ]
     },
     "metadata": {},
     "output_type": "display_data"
    }
   ],
   "source": [
    "%matplotlib inline\n",
    "rcParams['figure.figsize'] = 10, 5\n",
    "sns.set(style=\"whitegrid\")\n",
    "\n",
    "sns.barplot(x=\"month\", y=\"qtde_viagens\", data=trips_month)\n",
    "plt.xticks(np.arange(0,13), ('Jan', 'Fev', 'Mar', 'Abr', 'Mai','Jun','Jul','Ago','Set', 'Out', 'Nov', 'Dez'))\n",
    "\n",
    "plt.show()"
   ]
  },
  {
   "cell_type": "markdown",
   "metadata": {},
   "source": [
    "##### Quantidade de viagens por mês - Ano de 2009"
   ]
  },
  {
   "cell_type": "code",
   "execution_count": 58,
   "metadata": {},
   "outputs": [],
   "source": [
    "tm_2009 = trips[(trips['year'] == 2009)]"
   ]
  },
  {
   "cell_type": "code",
   "execution_count": 59,
   "metadata": {},
   "outputs": [
    {
     "data": {
      "image/png": "[encoded data removed]",
      "text/plain": [
       "<Figure size 720x360 with 1 Axes>"
      ]
     },
     "metadata": {},
     "output_type": "display_data"
    }
   ],
   "source": [
    "%matplotlib inline\n",
    "rcParams['figure.figsize'] = 10, 5\n",
    "sns.set(style=\"whitegrid\")\n",
    "\n",
    "sns.barplot(x=\"month\", y=\"qtde_viagens\", data=tm_2009)\n",
    "plt.xticks(np.arange(0,13), ('Jan', 'Fev', 'Mar', 'Abr', 'Mai','Jun','Jul','Ago','Set', 'Out', 'Nov', 'Dez'))\n",
    "\n",
    "plt.show()"
   ]
  },
  {
   "cell_type": "markdown",
   "metadata": {},
   "source": [
    "##### Quantidade de viagens por mês - Ano de 2010"
   ]
  },
  {
   "cell_type": "code",
   "execution_count": 60,
   "metadata": {},
   "outputs": [],
   "source": [
    "tm_2010 = trips[(trips['year'] == 2010)]"
   ]
  },
  {
   "cell_type": "code",
   "execution_count": 61,
   "metadata": {},
   "outputs": [
    {
     "data": {
      "image/png": "[encoded data removed]",
      "text/plain": [
       "<Figure size 720x360 with 1 Axes>"
      ]
     },
     "metadata": {},
     "output_type": "display_data"
    }
   ],
   "source": [
    "%matplotlib inline\n",
    "rcParams['figure.figsize'] = 10, 5\n",
    "sns.set(style=\"whitegrid\")\n",
    "\n",
    "sns.barplot(x=\"month\", y=\"qtde_viagens\", data=tm_2010)\n",
    "plt.xticks(np.arange(0,13), ('Jan', 'Fev', 'Mar', 'Abr', 'Mai','Jun','Jul','Ago','Set', 'Out', 'Nov', 'Dez'))\n",
    "\n",
    "plt.show()"
   ]
  },
  {
   "cell_type": "markdown",
   "metadata": {},
   "source": [
    "##### Quantidade de viagens por mês - Ano de 2011"
   ]
  },
  {
   "cell_type": "code",
   "execution_count": 62,
   "metadata": {},
   "outputs": [],
   "source": [
    "tm_2011 = trips[(trips['year'] == 2011)]"
   ]
  },
  {
   "cell_type": "code",
   "execution_count": 63,
   "metadata": {},
   "outputs": [
    {
     "data": {
      "image/png": "[encoded data removed]",
      "text/plain": [
       "<Figure size 720x360 with 1 Axes>"
      ]
     },
     "metadata": {},
     "output_type": "display_data"
    }
   ],
   "source": [
    "%matplotlib inline\n",
    "rcParams['figure.figsize'] = 10, 5\n",
    "sns.set(style=\"whitegrid\")\n",
    "\n",
    "sns.barplot(x=\"month\", y=\"qtde_viagens\", data=tm_2011)\n",
    "plt.xticks(np.arange(0,13), ('Jan', 'Fev', 'Mar', 'Abr', 'Mai','Jun','Jul','Ago','Set', 'Out', 'Nov', 'Dez'))\n",
    "\n",
    "plt.show()"
   ]
  },
  {
   "cell_type": "markdown",
   "metadata": {},
   "source": [
    "##### Quantidade de viagens por mês - Ano de 2012"
   ]
  },
  {
   "cell_type": "code",
   "execution_count": 64,
   "metadata": {},
   "outputs": [],
   "source": [
    "tm_2012 = trips[(trips['year'] == 2012)]"
   ]
  },
  {
   "cell_type": "code",
   "execution_count": 65,
   "metadata": {},
   "outputs": [
    {
     "data": {
      "image/png": "[encoded data removed]",
      "text/plain": [
       "<Figure size 720x360 with 1 Axes>"
      ]
     },
     "metadata": {},
     "output_type": "display_data"
    }
   ],
   "source": [
    "%matplotlib inline\n",
    "rcParams['figure.figsize'] = 10, 5\n",
    "sns.set(style=\"whitegrid\")\n",
    "\n",
    "sns.barplot(x=\"month\", y=\"qtde_viagens\", data=tm_2012)\n",
    "plt.xticks(np.arange(0,13), ('Jan', 'Fev', 'Mar', 'Abr', 'Mai','Jun','Jul','Ago','Set', 'Out', 'Nov', 'Dez'))\n",
    "\n",
    "plt.show()"
   ]
  },
  {
   "cell_type": "markdown",
   "metadata": {},
   "source": [
    "-  7 - Create assumptions, validate against a data and prove with storyelling and graphs"
   ]
  },
  {
   "cell_type": "markdown",
   "metadata": {},
   "source": [
    "Perfil de viagem dos passageiros"
   ]
  },
  {
   "cell_type": "markdown",
   "metadata": {},
   "source": [
    "- Horário da viagem x qtde de passageiros"
   ]
  },
  {
   "cell_type": "code",
   "execution_count": 66,
   "metadata": {},
   "outputs": [],
   "source": [
    "hora_viagem = sqlContext.sql(\"SELECT COUNT(*) as qtde, passenger_count, trip_period FROM trips WHERE passenger_count >= 1 GROUP BY trip_period,passenger_count ORDER BY qtde DESC\")"
   ]
  },
  {
   "cell_type": "code",
   "execution_count": 67,
   "metadata": {},
   "outputs": [],
   "source": [
    "hora_viagem = hora_viagem.toPandas()"
   ]
  },
  {
   "cell_type": "code",
   "execution_count": 68,
   "metadata": {},
   "outputs": [
    {
     "data": {
      "text/html": [
       "<div>\n",
       "<style scoped>\n",
       "    .dataframe tbody tr th:only-of-type {\n",
       "        vertical-align: middle;\n",
       "    }\n",
       "\n",
       "    .dataframe tbody tr th {\n",
       "        vertical-align: top;\n",
       "    }\n",
       "\n",
       "    .dataframe thead th {\n",
       "        text-align: right;\n",
       "    }\n",
       "</style>\n",
       "<table border=\"1\" class=\"dataframe\">\n",
       "  <thead>\n",
       "    <tr style=\"text-align: right;\">\n",
       "      <th></th>\n",
       "      <th>qtde</th>\n",
       "      <th>passenger_count</th>\n",
       "      <th>trip_period</th>\n",
       "    </tr>\n",
       "  </thead>\n",
       "  <tbody>\n",
       "    <tr>\n",
       "      <th>0</th>\n",
       "      <td>583929</td>\n",
       "      <td>1</td>\n",
       "      <td>dawn</td>\n",
       "    </tr>\n",
       "    <tr>\n",
       "      <th>1</th>\n",
       "      <td>583383</td>\n",
       "      <td>1</td>\n",
       "      <td>morning</td>\n",
       "    </tr>\n",
       "    <tr>\n",
       "      <th>2</th>\n",
       "      <td>582401</td>\n",
       "      <td>1</td>\n",
       "      <td>evening</td>\n",
       "    </tr>\n",
       "    <tr>\n",
       "      <th>3</th>\n",
       "      <td>582023</td>\n",
       "      <td>1</td>\n",
       "      <td>night</td>\n",
       "    </tr>\n",
       "    <tr>\n",
       "      <th>4</th>\n",
       "      <td>168159</td>\n",
       "      <td>2</td>\n",
       "      <td>morning</td>\n",
       "    </tr>\n",
       "    <tr>\n",
       "      <th>5</th>\n",
       "      <td>167511</td>\n",
       "      <td>2</td>\n",
       "      <td>evening</td>\n",
       "    </tr>\n",
       "    <tr>\n",
       "      <th>6</th>\n",
       "      <td>167333</td>\n",
       "      <td>2</td>\n",
       "      <td>night</td>\n",
       "    </tr>\n",
       "    <tr>\n",
       "      <th>7</th>\n",
       "      <td>167309</td>\n",
       "      <td>2</td>\n",
       "      <td>dawn</td>\n",
       "    </tr>\n",
       "    <tr>\n",
       "      <th>8</th>\n",
       "      <td>80857</td>\n",
       "      <td>5</td>\n",
       "      <td>night</td>\n",
       "    </tr>\n",
       "    <tr>\n",
       "      <th>9</th>\n",
       "      <td>80769</td>\n",
       "      <td>5</td>\n",
       "      <td>dawn</td>\n",
       "    </tr>\n",
       "    <tr>\n",
       "      <th>10</th>\n",
       "      <td>80388</td>\n",
       "      <td>5</td>\n",
       "      <td>evening</td>\n",
       "    </tr>\n",
       "    <tr>\n",
       "      <th>11</th>\n",
       "      <td>80382</td>\n",
       "      <td>5</td>\n",
       "      <td>morning</td>\n",
       "    </tr>\n",
       "    <tr>\n",
       "      <th>12</th>\n",
       "      <td>48816</td>\n",
       "      <td>3</td>\n",
       "      <td>night</td>\n",
       "    </tr>\n",
       "    <tr>\n",
       "      <th>13</th>\n",
       "      <td>48305</td>\n",
       "      <td>3</td>\n",
       "      <td>evening</td>\n",
       "    </tr>\n",
       "    <tr>\n",
       "      <th>14</th>\n",
       "      <td>48299</td>\n",
       "      <td>3</td>\n",
       "      <td>morning</td>\n",
       "    </tr>\n",
       "    <tr>\n",
       "      <th>15</th>\n",
       "      <td>48064</td>\n",
       "      <td>3</td>\n",
       "      <td>dawn</td>\n",
       "    </tr>\n",
       "    <tr>\n",
       "      <th>16</th>\n",
       "      <td>27917</td>\n",
       "      <td>4</td>\n",
       "      <td>morning</td>\n",
       "    </tr>\n",
       "    <tr>\n",
       "      <th>17</th>\n",
       "      <td>27881</td>\n",
       "      <td>4</td>\n",
       "      <td>dawn</td>\n",
       "    </tr>\n",
       "    <tr>\n",
       "      <th>18</th>\n",
       "      <td>27772</td>\n",
       "      <td>4</td>\n",
       "      <td>night</td>\n",
       "    </tr>\n",
       "    <tr>\n",
       "      <th>19</th>\n",
       "      <td>27426</td>\n",
       "      <td>4</td>\n",
       "      <td>evening</td>\n",
       "    </tr>\n",
       "    <tr>\n",
       "      <th>20</th>\n",
       "      <td>3845</td>\n",
       "      <td>6</td>\n",
       "      <td>night</td>\n",
       "    </tr>\n",
       "    <tr>\n",
       "      <th>21</th>\n",
       "      <td>3804</td>\n",
       "      <td>6</td>\n",
       "      <td>evening</td>\n",
       "    </tr>\n",
       "    <tr>\n",
       "      <th>22</th>\n",
       "      <td>3738</td>\n",
       "      <td>6</td>\n",
       "      <td>morning</td>\n",
       "    </tr>\n",
       "    <tr>\n",
       "      <th>23</th>\n",
       "      <td>3677</td>\n",
       "      <td>6</td>\n",
       "      <td>dawn</td>\n",
       "    </tr>\n",
       "  </tbody>\n",
       "</table>\n",
       "</div>"
      ],
      "text/plain": [
       "      qtde  passenger_count trip_period\n",
       "0   583929                1        dawn\n",
       "1   583383                1     morning\n",
       "2   582401                1     evening\n",
       "3   582023                1       night\n",
       "4   168159                2     morning\n",
       "5   167511                2     evening\n",
       "6   167333                2       night\n",
       "7   167309                2        dawn\n",
       "8    80857                5       night\n",
       "9    80769                5        dawn\n",
       "10   80388                5     evening\n",
       "11   80382                5     morning\n",
       "12   48816                3       night\n",
       "13   48305                3     evening\n",
       "14   48299                3     morning\n",
       "15   48064                3        dawn\n",
       "16   27917                4     morning\n",
       "17   27881                4        dawn\n",
       "18   27772                4       night\n",
       "19   27426                4     evening\n",
       "20    3845                6       night\n",
       "21    3804                6     evening\n",
       "22    3738                6     morning\n",
       "23    3677                6        dawn"
      ]
     },
     "execution_count": 68,
     "metadata": {},
     "output_type": "execute_result"
    }
   ],
   "source": [
    "hora_viagem"
   ]
  },
  {
   "cell_type": "code",
   "execution_count": 69,
   "metadata": {},
   "outputs": [
    {
     "data": {
      "text/plain": [
       "<matplotlib.axes._subplots.AxesSubplot at 0x7fb50c969cc0>"
      ]
     },
     "execution_count": 69,
     "metadata": {},
     "output_type": "execute_result"
    },
    {
     "data": {
      "image/png": "[encoded data removed]",
      "text/plain": [
       "<Figure size 720x360 with 1 Axes>"
      ]
     },
     "metadata": {},
     "output_type": "display_data"
    }
   ],
   "source": [
    "hora_viagem[['qtde','trip_period']].plot()"
   ]
  },
  {
   "cell_type": "markdown",
   "metadata": {},
   "source": [
    "As pessoas usam menos taxi em feriados? "
   ]
  },
  {
   "cell_type": "markdown",
   "metadata": {},
   "source": [
    "R: Em todos os anos analisados, há uma tendência de uma menor utilização de taxis durante os feriados (a quantidade de viagens nesses dias é menor)"
   ]
  },
  {
   "cell_type": "markdown",
   "metadata": {},
   "source": [
    "Feriados obtidos do site: http://www.public-holidays.us/US_PT_2009_New%20York"
   ]
  },
  {
   "cell_type": "code",
   "execution_count": 70,
   "metadata": {},
   "outputs": [],
   "source": [
    "feriados_2009 = ['2009-01-01', '2009-01-19', '2009-02-12', '2009-02-16', '2009-05-25','2009-07-04','2009-09-07','2009-10-12', '2009-11-03', '2009-11-26','2009-12-25']"
   ]
  },
  {
   "cell_type": "code",
   "execution_count": 71,
   "metadata": {},
   "outputs": [],
   "source": [
    "feriados_2010 = ['2010-01-01', '2010-01-18', '2010-02-12', '2010-02-15', '2010-05-31', '2010-07-04','2010-09-06','2010-10-11', '2010-11-02', '2010-11-25', '2010-12-25', '2010-12-31']"
   ]
  },
  {
   "cell_type": "code",
   "execution_count": 72,
   "metadata": {},
   "outputs": [],
   "source": [
    "feriados_2011 = ['2011-01-01', '2011-01-19', '2011-02-12', '2011-02-16', '2010-05-25', '2010-07-04','2010-09-07','2010-10-12', '2010-11-03', '2010-11-26','2010-12-25']"
   ]
  },
  {
   "cell_type": "code",
   "execution_count": 73,
   "metadata": {},
   "outputs": [],
   "source": [
    "feriados_2012 = ['2012-01-01', '2012-01-16', '2012-02-12', '2012-02-20', '2012-05-28', '2012-07-04','2012-09-03','2012-10-08', '2012-11-06', '2012-11-22','2012-12-25']"
   ]
  },
  {
   "cell_type": "markdown",
   "metadata": {},
   "source": [
    "- Ano de 2009"
   ]
  },
  {
   "cell_type": "code",
   "execution_count": 74,
   "metadata": {},
   "outputs": [],
   "source": [
    "trips_2009 = sqlContext.sql(\"SELECT * FROM trips WHERE year_travel = 2009\")"
   ]
  },
  {
   "cell_type": "code",
   "execution_count": 75,
   "metadata": {},
   "outputs": [],
   "source": [
    "trips_2009 = trips_2009.toPandas()"
   ]
  },
  {
   "cell_type": "code",
   "execution_count": 76,
   "metadata": {},
   "outputs": [
    {
     "data": {
      "text/plain": [
       "24081"
      ]
     },
     "execution_count": 76,
     "metadata": {},
     "output_type": "execute_result"
    }
   ],
   "source": [
    "trips_2009[(trips_2009['pickup_date'].isin(feriados_2009))].vendor_id.count()"
   ]
  },
  {
   "cell_type": "code",
   "execution_count": 77,
   "metadata": {},
   "outputs": [
    {
     "data": {
      "text/plain": [
       "pickup_date\n",
       "2009-01-19    2655\n",
       "2009-02-12    2638\n",
       "2009-02-16    2712\n",
       "2009-05-25    2662\n",
       "2009-07-04    2652\n",
       "2009-09-07    2744\n",
       "2009-10-12    2669\n",
       "2009-11-03    2646\n",
       "2009-11-26    2703\n",
       "Name: vendor_id, dtype: int64"
      ]
     },
     "execution_count": 77,
     "metadata": {},
     "output_type": "execute_result"
    }
   ],
   "source": [
    "trips_2009[(trips_2009['pickup_date'].isin(feriados_2009))].groupby('pickup_date')['vendor_id'].count()"
   ]
  },
  {
   "cell_type": "code",
   "execution_count": 78,
   "metadata": {},
   "outputs": [],
   "source": [
    "mean_feriado = trips_2009[(trips_2009['pickup_date'].isin(feriados_2009))].groupby('pickup_date')['vendor_id'].count().mean()"
   ]
  },
  {
   "cell_type": "code",
   "execution_count": 79,
   "metadata": {},
   "outputs": [
    {
     "data": {
      "text/plain": [
       "2675.6666666666665"
      ]
     },
     "execution_count": 79,
     "metadata": {},
     "output_type": "execute_result"
    }
   ],
   "source": [
    "mean_feriado"
   ]
  },
  {
   "cell_type": "code",
   "execution_count": 80,
   "metadata": {},
   "outputs": [
    {
     "data": {
      "text/plain": [
       "887026"
      ]
     },
     "execution_count": 80,
     "metadata": {},
     "output_type": "execute_result"
    }
   ],
   "source": [
    "trips_2009[~(trips_2009['pickup_date'].isin(feriados_2009))].vendor_id.count()"
   ]
  },
  {
   "cell_type": "code",
   "execution_count": 81,
   "metadata": {},
   "outputs": [
    {
     "data": {
      "text/plain": [
       "pickup_date\n",
       "2009-01-04    2713\n",
       "2009-01-05    2658\n",
       "2009-01-06    2766\n",
       "2009-01-07    2676\n",
       "2009-01-08    2654\n",
       "2009-01-09    2539\n",
       "2009-01-10    2719\n",
       "2009-01-11    2714\n",
       "2009-01-12    2652\n",
       "2009-01-13    2728\n",
       "2009-01-14    2884\n",
       "2009-01-15    2651\n",
       "2009-01-16    2717\n",
       "2009-01-17    2538\n",
       "2009-01-18    2610\n",
       "2009-01-20    2732\n",
       "2009-01-21    2837\n",
       "2009-01-22    2720\n",
       "2009-01-23    2627\n",
       "2009-01-24    2712\n",
       "2009-01-25    2600\n",
       "2009-01-26    2654\n",
       "2009-01-27    2679\n",
       "2009-01-28    2622\n",
       "2009-01-29    2632\n",
       "2009-01-30    2735\n",
       "2009-01-31    2694\n",
       "2009-02-01    2637\n",
       "2009-02-02    2727\n",
       "2009-02-03    2699\n",
       "              ... \n",
       "2009-11-10    2694\n",
       "2009-11-11    2696\n",
       "2009-11-12    2641\n",
       "2009-11-13    2699\n",
       "2009-11-14    2742\n",
       "2009-11-15    2615\n",
       "2009-11-16    2676\n",
       "2009-11-17    2639\n",
       "2009-11-18    2613\n",
       "2009-11-19    2686\n",
       "2009-11-20    2742\n",
       "2009-11-21    2725\n",
       "2009-11-22    2719\n",
       "2009-11-23    2638\n",
       "2009-11-24    2625\n",
       "2009-11-25    2698\n",
       "2009-11-27    2639\n",
       "2009-11-28    2649\n",
       "2009-11-29    2783\n",
       "2009-11-30    2683\n",
       "2009-12-01    2651\n",
       "2009-12-02    2686\n",
       "2009-12-03    2656\n",
       "2009-12-04    2697\n",
       "2009-12-05    2690\n",
       "2009-12-06    2672\n",
       "2009-12-07    2752\n",
       "2009-12-08    2677\n",
       "2009-12-09    2688\n",
       "2009-12-10      14\n",
       "Name: vendor_id, Length: 332, dtype: int64"
      ]
     },
     "execution_count": 81,
     "metadata": {},
     "output_type": "execute_result"
    }
   ],
   "source": [
    "trips_2009[~(trips_2009['pickup_date'].isin(feriados_2009))].groupby('pickup_date')['vendor_id'].count()"
   ]
  },
  {
   "cell_type": "code",
   "execution_count": 82,
   "metadata": {},
   "outputs": [],
   "source": [
    "media_fora_feriados = trips_2009[~(trips_2009['pickup_date'].isin(feriados_2009))].groupby('pickup_date')['vendor_id'].count().mean()"
   ]
  },
  {
   "cell_type": "code",
   "execution_count": 83,
   "metadata": {},
   "outputs": [
    {
     "data": {
      "text/plain": [
       "2671.765060240964"
      ]
     },
     "execution_count": 83,
     "metadata": {},
     "output_type": "execute_result"
    }
   ],
   "source": [
    "media_fora_feriados"
   ]
  },
  {
   "cell_type": "markdown",
   "metadata": {},
   "source": [
    "- Ano de 2010"
   ]
  },
  {
   "cell_type": "code",
   "execution_count": 84,
   "metadata": {},
   "outputs": [],
   "source": [
    "trips_2010 = sqlContext.sql(\"SELECT * FROM trips WHERE year_travel = 2010\")"
   ]
  },
  {
   "cell_type": "code",
   "execution_count": 85,
   "metadata": {},
   "outputs": [],
   "source": [
    "trips_2010 = trips_2010.toPandas()"
   ]
  },
  {
   "cell_type": "code",
   "execution_count": 86,
   "metadata": {},
   "outputs": [
    {
     "data": {
      "text/plain": [
       "24172"
      ]
     },
     "execution_count": 86,
     "metadata": {},
     "output_type": "execute_result"
    }
   ],
   "source": [
    "trips_2010[(trips_2010['pickup_date'].isin(feriados_2010))].vendor_id.count()"
   ]
  },
  {
   "cell_type": "code",
   "execution_count": 87,
   "metadata": {},
   "outputs": [
    {
     "data": {
      "text/plain": [
       "pickup_date\n",
       "2010-01-18    2768\n",
       "2010-02-12    2757\n",
       "2010-02-15    2667\n",
       "2010-05-31    2686\n",
       "2010-07-04    2658\n",
       "2010-09-06    2671\n",
       "2010-10-11    2629\n",
       "2010-11-02    2686\n",
       "2010-11-25    2650\n",
       "Name: vendor_id, dtype: int64"
      ]
     },
     "execution_count": 87,
     "metadata": {},
     "output_type": "execute_result"
    }
   ],
   "source": [
    "trips_2010[(trips_2010['pickup_date'].isin(feriados_2010))].groupby('pickup_date')['vendor_id'].count()"
   ]
  },
  {
   "cell_type": "code",
   "execution_count": 88,
   "metadata": {},
   "outputs": [
    {
     "data": {
      "text/plain": [
       "2685.777777777778"
      ]
     },
     "execution_count": 88,
     "metadata": {},
     "output_type": "execute_result"
    }
   ],
   "source": [
    "trips_2010[(trips_2010['pickup_date'].isin(feriados_2010))].groupby('pickup_date')['vendor_id'].count().mean()"
   ]
  },
  {
   "cell_type": "code",
   "execution_count": 89,
   "metadata": {},
   "outputs": [
    {
     "data": {
      "text/plain": [
       "pickup_date\n",
       "2010-01-04    2748\n",
       "2010-01-05    2672\n",
       "2010-01-06    2589\n",
       "2010-01-07    2695\n",
       "2010-01-08    2673\n",
       "2010-01-09    2601\n",
       "2010-01-10    2656\n",
       "2010-01-11    2604\n",
       "2010-01-12    2727\n",
       "2010-01-13    2716\n",
       "2010-01-14    2712\n",
       "2010-01-15    2671\n",
       "2010-01-16    2646\n",
       "2010-01-17    2725\n",
       "2010-01-19    2621\n",
       "2010-01-20    2599\n",
       "2010-01-21    2553\n",
       "2010-01-22    2611\n",
       "2010-01-23    2620\n",
       "2010-01-24    2689\n",
       "2010-01-25    2647\n",
       "2010-01-26    2670\n",
       "2010-01-27    2595\n",
       "2010-01-28    2667\n",
       "2010-01-29    2627\n",
       "2010-01-30    2563\n",
       "2010-01-31    2704\n",
       "2010-02-01    2701\n",
       "2010-02-02    2734\n",
       "2010-02-03    2630\n",
       "              ... \n",
       "2010-11-12    2720\n",
       "2010-11-13    2621\n",
       "2010-11-14    2648\n",
       "2010-11-15    2644\n",
       "2010-11-16    2571\n",
       "2010-11-17    2696\n",
       "2010-11-18    2661\n",
       "2010-11-19    2635\n",
       "2010-11-20    2672\n",
       "2010-11-21    2674\n",
       "2010-11-22    2649\n",
       "2010-11-23    2649\n",
       "2010-11-24    2740\n",
       "2010-11-26    2624\n",
       "2010-11-27    2641\n",
       "2010-11-28    2608\n",
       "2010-11-29    2697\n",
       "2010-11-30    2634\n",
       "2010-12-01    2631\n",
       "2010-12-02    2620\n",
       "2010-12-03    2603\n",
       "2010-12-04    2624\n",
       "2010-12-05    2669\n",
       "2010-12-06    2663\n",
       "2010-12-07    2691\n",
       "2010-12-08    2554\n",
       "2010-12-09    2689\n",
       "2010-12-10    2637\n",
       "2010-12-11    2695\n",
       "2010-12-12      14\n",
       "Name: vendor_id, Length: 334, dtype: int64"
      ]
     },
     "execution_count": 89,
     "metadata": {},
     "output_type": "execute_result"
    }
   ],
   "source": [
    "trips_2010[~(trips_2010['pickup_date'].isin(feriados_2010))].groupby('pickup_date')['vendor_id'].count()"
   ]
  },
  {
   "cell_type": "code",
   "execution_count": 90,
   "metadata": {},
   "outputs": [
    {
     "data": {
      "text/plain": [
       "2655.494011976048"
      ]
     },
     "execution_count": 90,
     "metadata": {},
     "output_type": "execute_result"
    }
   ],
   "source": [
    "trips_2010[~(trips_2010['pickup_date'].isin(feriados_2010))].groupby('pickup_date')['vendor_id'].count().mean()"
   ]
  },
  {
   "cell_type": "markdown",
   "metadata": {},
   "source": [
    "- Ano de 2011"
   ]
  },
  {
   "cell_type": "code",
   "execution_count": 92,
   "metadata": {},
   "outputs": [],
   "source": [
    "trips_2011 = sqlContext.sql(\"SELECT * FROM trips WHERE year_travel = 2011\")"
   ]
  },
  {
   "cell_type": "code",
   "execution_count": 95,
   "metadata": {},
   "outputs": [
    {
     "data": {
      "text/plain": [
       "8419"
      ]
     },
     "execution_count": 95,
     "metadata": {},
     "output_type": "execute_result"
    }
   ],
   "source": [
    "trips_2011.filter(trips_2011.pickup_date.isin(feriados_2011)).count()"
   ]
  },
  {
   "cell_type": "code",
   "execution_count": 98,
   "metadata": {},
   "outputs": [],
   "source": [
    "df = trips_2011.filter(trips_2011.pickup_date.isin(feriados_2011)).groupby('pickup_date').count()"
   ]
  },
  {
   "cell_type": "code",
   "execution_count": 100,
   "metadata": {},
   "outputs": [
    {
     "name": "stdout",
     "output_type": "stream",
     "text": [
      "+-----------+-----+\n",
      "|pickup_date|count|\n",
      "+-----------+-----+\n",
      "| 2011-02-12| 2801|\n",
      "| 2011-01-19| 2772|\n",
      "| 2011-02-16| 2846|\n",
      "+-----------+-----+\n",
      "\n"
     ]
    }
   ],
   "source": [
    "df.show()"
   ]
  },
  {
   "cell_type": "code",
   "execution_count": 106,
   "metadata": {},
   "outputs": [
    {
     "data": {
      "text/plain": [
       "902688"
      ]
     },
     "execution_count": 106,
     "metadata": {},
     "output_type": "execute_result"
    }
   ],
   "source": [
    "trips_2011.filter(~trips_2011.pickup_date.isin(feriados_2011)).count()"
   ]
  },
  {
   "cell_type": "code",
   "execution_count": 107,
   "metadata": {},
   "outputs": [],
   "source": [
    "df = trips_2011.filter(~trips_2011.pickup_date.isin(feriados_2011)).groupby('pickup_date').count()"
   ]
  },
  {
   "cell_type": "code",
   "execution_count": 108,
   "metadata": {},
   "outputs": [
    {
     "name": "stdout",
     "output_type": "stream",
     "text": [
      "+-----------+-----+\n",
      "|pickup_date|count|\n",
      "+-----------+-----+\n",
      "| 2011-01-29| 2854|\n",
      "| 2011-07-16| 2817|\n",
      "| 2011-01-27| 2802|\n",
      "| 2011-01-23| 2829|\n",
      "| 2011-01-25| 2888|\n",
      "| 2011-08-16| 2751|\n",
      "| 2011-06-26| 2836|\n",
      "| 2011-08-29| 2928|\n",
      "| 2011-05-06| 2800|\n",
      "| 2011-02-10| 2835|\n",
      "| 2011-10-31| 2912|\n",
      "| 2011-06-07| 2807|\n",
      "| 2011-09-13| 2876|\n",
      "| 2011-01-30| 2813|\n",
      "| 2011-04-11| 2838|\n",
      "| 2011-04-12| 2767|\n",
      "| 2011-08-08| 2925|\n",
      "| 2011-08-28| 2874|\n",
      "| 2011-02-22| 2934|\n",
      "| 2011-02-04| 2896|\n",
      "+-----------+-----+\n",
      "only showing top 20 rows\n",
      "\n"
     ]
    }
   ],
   "source": [
    "df.show()"
   ]
  },
  {
   "cell_type": "markdown",
   "metadata": {},
   "source": [
    "- Ano de 2012"
   ]
  },
  {
   "cell_type": "code",
   "execution_count": 110,
   "metadata": {},
   "outputs": [],
   "source": [
    "trips_2012 = sqlContext.sql(\"SELECT * FROM trips WHERE year_travel = 2012\")"
   ]
  },
  {
   "cell_type": "code",
   "execution_count": 111,
   "metadata": {},
   "outputs": [
    {
     "data": {
      "text/plain": [
       "21090"
      ]
     },
     "execution_count": 111,
     "metadata": {},
     "output_type": "execute_result"
    }
   ],
   "source": [
    "trips_2012.filter(trips_2012.pickup_date.isin(feriados_2012)).count()"
   ]
  },
  {
   "cell_type": "code",
   "execution_count": 112,
   "metadata": {},
   "outputs": [],
   "source": [
    "df = trips_2012.filter(trips_2012.pickup_date.isin(feriados_2012)).groupby('pickup_date').count()"
   ]
  },
  {
   "cell_type": "code",
   "execution_count": 113,
   "metadata": {},
   "outputs": [
    {
     "name": "stdout",
     "output_type": "stream",
     "text": [
      "+-----------+-----+\n",
      "|pickup_date|count|\n",
      "+-----------+-----+\n",
      "| 2012-02-20| 3079|\n",
      "| 2012-09-03| 3071|\n",
      "| 2012-05-28| 2973|\n",
      "| 2012-01-16| 3000|\n",
      "| 2012-02-12| 3049|\n",
      "| 2012-07-04| 2938|\n",
      "| 2012-10-08| 2980|\n",
      "+-----------+-----+\n",
      "\n"
     ]
    }
   ],
   "source": [
    "df.show()"
   ]
  },
  {
   "cell_type": "code",
   "execution_count": 114,
   "metadata": {},
   "outputs": [
    {
     "data": {
      "text/plain": [
       "890017"
      ]
     },
     "execution_count": 114,
     "metadata": {},
     "output_type": "execute_result"
    }
   ],
   "source": [
    "trips_2012.filter(~trips_2012.pickup_date.isin(feriados_2012)).count()"
   ]
  },
  {
   "cell_type": "code",
   "execution_count": 115,
   "metadata": {},
   "outputs": [],
   "source": [
    "df = trips_2012.filter(~trips_2012.pickup_date.isin(feriados_2012)).groupby('pickup_date').count()"
   ]
  },
  {
   "cell_type": "code",
   "execution_count": 116,
   "metadata": {},
   "outputs": [
    {
     "name": "stdout",
     "output_type": "stream",
     "text": [
      "+-----------+-----+\n",
      "|pickup_date|count|\n",
      "+-----------+-----+\n",
      "| 2012-03-04| 3055|\n",
      "| 2012-10-21| 2986|\n",
      "| 2012-01-12| 2922|\n",
      "| 2012-03-09| 2995|\n",
      "| 2012-05-27| 3068|\n",
      "| 2012-09-05| 3104|\n",
      "| 2012-05-30| 3084|\n",
      "| 2012-08-17| 3055|\n",
      "| 2012-07-06| 3104|\n",
      "| 2012-01-28| 3088|\n",
      "| 2012-03-19| 3112|\n",
      "| 2012-05-12| 3082|\n",
      "| 2012-06-15| 3148|\n",
      "| 2012-09-14| 2947|\n",
      "| 2012-10-06| 2994|\n",
      "| 2012-08-24| 2941|\n",
      "| 2012-04-16| 3054|\n",
      "| 2012-06-29| 3043|\n",
      "| 2012-05-18| 3087|\n",
      "| 2012-07-14| 3066|\n",
      "+-----------+-----+\n",
      "only showing top 20 rows\n",
      "\n"
     ]
    }
   ],
   "source": [
    "df.show()"
   ]
  }
 ],
 "metadata": {
  "colab": {
   "name": "Analysis.ipynb",
   "provenance": []
  },
  "kernelspec": {
   "display_name": "conda_python3",
   "language": "python",
   "name": "conda_python3"
  },
  "language_info": {
   "codemirror_mode": {
    "name": "ipython",
    "version": 3
   },
   "file_extension": ".py",
   "mimetype": "text/x-python",
   "name": "python",
   "nbconvert_exporter": "python",
   "pygments_lexer": "ipython3",
   "version": "3.6.5"
  }
 },
 "nbformat": 4,
 "nbformat_minor": 4
}